import pandas as pd
import plotly.graph_objects as go

# Load data from an Excel file (replace 'your_file.xlsx' with the actual file path)
excel_file = pd.read_excel("E:\\CEPT BEP First Year\\02_PCLab\\Final Semester PPT\\Simulation Module\\Q1. BUA vs ECBC_V3_Python.xlsx")

# Define the sequence of columns and their assignments to y-axes
column_order = [
    'Outside DBT (°C)  - 00:00 Hrs to 05:59 Hrs', 'BUA - 00:00 Hrs to 05:59 Hrs', 'ECBC - 00:00 Hrs to 05:59 Hrs',
    'Outside DBT (°C)  - 06:00 Hrs to 11:59 Hrs', 'BUA - 06:00 Hrs to 11:59 Hrs', 'ECBC - 06:00 Hrs to 11:59 Hrs',
    'Outside DBT (°C)  - 12:00 Hrs to 17:59 Hrs', 'BUA - 12:00 Hrs to 17:59 Hrs', 'ECBC - 12:00 Hrs to 17:59 Hrs',
    'Outside DBT (°C)  - 18:00 Hrs to 11:59 Hrs', 'BUA - 18:00 Hrs to 11:59 Hrs', 'ECBC - 18:00 Hrs to 11:59 Hrs'
]

primary_axes = [
    'BUA - 00:00 Hrs to 05:59 Hrs', 'ECBC - 00:00 Hrs to 05:59 Hrs',
    'BUA - 06:00 Hrs to 11:59 Hrs', 'ECBC - 06:00 Hrs to 11:59 Hrs',
    'BUA - 12:00 Hrs to 17:59 Hrs', 'ECBC - 12:00 Hrs to 17:59 Hrs',
    'BUA - 18:00 Hrs to 11:59 Hrs', 'ECBC - 18:00 Hrs to 11:59 Hrs'
]

secondary_axes = [
    'Outside DBT (°C)  - 00:00 Hrs to 05:59 Hrs', 'Outside DBT (°C)  - 06:00 Hrs to 11:59 Hrs',
    'Outside DBT (°C)  - 12:00 Hrs to 17:59 Hrs', 'Outside DBT (°C)  - 18:00 Hrs to 11:59 Hrs'
]

primary_color = '#A4DDED'  # Blue color for BAU plots
secondary_color = '#FF6961'  # Red color for ECBC plots
tertiary_color = '#B0E57C'  # Light green color for specified ECBC plots

l_color = '#C0C0C0'

# Create a figure with subplots
fig = go.Figure()

for column in column_order:
    if column in primary_axes:
        if 'ECBC' in column:
            if '00:00 Hrs to 05:59 Hrs' in column or '06:00 Hrs to 11:59 Hrs' in column or '12:00 Hrs to 17:59 Hrs' in column or '18:00 Hrs to 11:59 Hrs' in column:
                fig.add_trace(go.Box(y=excel_file[column], name=column, boxmean=True, showlegend=False, line_color=l_color, fillcolor=tertiary_color))
            else:
                fig.add_trace(go.Box(y=excel_file[column], name=column, boxmean=True, showlegend=False, line_color=l_color, fillcolor=primary_color))
        else:
            fig.add_trace(go.Box(y=excel_file[column], name=column, boxmean=True, showlegend=False, line_color=l_color, fillcolor=primary_color))
    elif column in secondary_axes:
        fig.add_trace(go.Violin(y=excel_file[column], name=column, box_visible=True, line_color=l_color, fillcolor=secondary_color, yaxis='y2', showlegend=False))

# Customize the layout and axes titles
fig.update_layout(
    title="Comparing Wall Gains(Kw) for ECBC & BAU Wall U values (W/m2.K) across a year with Outside Dry Bulb Temperature (oC)",
    xaxis=dict(title="Time of the Day ", showgrid=True, showline=True),
    yaxis=dict(title="Wall Gains (W/m2)", showgrid=True, showline=True),
    yaxis2=dict(title="Outside Dry Bulb Temperature (oC)", overlaying="y", side="right", showgrid=True, showline=True),
    plot_bgcolor='rgba(0,0,0,0)',  # Set plot background to transparent
    paper_bgcolor='rgba(0,0,0,0)',  # Set paper background to transparent
    width=1500,  # Set the width of the graph in pixels
    height=1000  # Set the height of the graph in pixels
)

font_style = dict(family='Times New Roman', size=16, color='black')  # Adjust font family, size, and color as needed
fig.update_layout(font=font_style)

# Export the graph to a JPEG image
image_bytes = fig.to_image(format="png")

# Save the image bytes to a file
with open("your_graph5.png", "wb") as image_file:
    image_file.write(image_bytes)

fig.show()
